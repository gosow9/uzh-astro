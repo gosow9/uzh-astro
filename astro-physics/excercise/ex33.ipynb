{
 "cells": [
  {
   "cell_type": "markdown",
   "metadata": {},
   "source": [
    "# Excercise 3.3\n",
    "Newton’s Principia begins (after some long prefaces) with definitions, followed by axioms and laws of motion. Newton does not claim to have discovered Newton’s laws of motion, but attributes them to four of his predecessors and contemporaries. Look up a version of Principia online, and find out whom he credits."
   ]
  }
 ],
 "metadata": {
  "language_info": {
   "name": "python"
  }
 },
 "nbformat": 4,
 "nbformat_minor": 2
}
