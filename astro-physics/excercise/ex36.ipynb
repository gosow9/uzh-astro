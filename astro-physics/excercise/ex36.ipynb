{
 "cells": [
  {
   "cell_type": "markdown",
   "metadata": {},
   "source": [
    "# Gravity from spheres\n",
    "\n",
    "## Excercise:\n",
    "Suppose we have a giant spherical muffin. We now cut out a spherical cavity somewhere inside the muffin (not necessarily around the centre) and fill the cavity with chocolate. The chocolate has higher density than the muffin, but both densities are uniform. How does the operation of cutting out a cavity and replacing it with chocolate change the gravity at the centre of the chocolate sphere?\n",
    "\n",
    "Use Gaussian arguments, avoiding explicit integration."
   ]
  }
 ],
 "metadata": {
  "language_info": {
   "name": "python"
  }
 },
 "nbformat": 4,
 "nbformat_minor": 2
}
