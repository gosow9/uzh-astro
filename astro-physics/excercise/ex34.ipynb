{
 "cells": [
  {
   "cell_type": "markdown",
   "metadata": {},
   "source": [
    "# Excercise 3.4\n",
    "For readers familiar with Gauss’s flux law in electrostatics: adapt the flux law to show that the local gravitational acceleration averaged over the surface of an asteroid of arbitrary shape and mass distribution satisfies\n",
    "\n",
    "$$\n",
    " \\langle g\\rangle  = \\frac{4\\pi}{A}Gm\n",
    "$$\n",
    "\n",
    "where $A$ is surface area of the asteroid and $m$ is its mass."
   ]
  }
 ],
 "metadata": {
  "language_info": {
   "name": "python"
  }
 },
 "nbformat": 4,
 "nbformat_minor": 2
}
