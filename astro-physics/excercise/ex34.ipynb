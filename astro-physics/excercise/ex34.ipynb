{
 "cells": [
  {
   "cell_type": "markdown",
   "metadata": {},
   "source": [
    "## Exercise 33\n",
    "\n",
    "The Sun has $ \\frac{GM_\\odot}{c^3} \\approx 5 \\times 10^{-6} \\, \\text{s} $ and $ \\frac{R_\\odot}{c} \\approx 2.3 \\, \\text{s} $.  \n",
    "Estimate the mass of a black hole with the same mean density as the Sun.\n",
    "\n",
    "\n"
   ]
  },
  {
   "cell_type": "markdown",
   "metadata": {},
   "source": [
    "## Constants\n",
    "- Gravitational constant ($G$): $6.67430 \\times 10^{-11} \\, \\text{m}^3 \\, \\text{kg}^{-1} \\, \\text{s}^{-2}$\n",
    "- Speed of light ($c$): $3 \\times 10^8 \\, \\text{m/s}$\n",
    "- Mass of the Sun ($M_\\odot$): $1.989 \\times 10^{30} \\, \\text{kg}$\n",
    "- Given:\n",
    "  - $\\frac{GM_\\odot}{c^3} \\approx 5 \\times 10^{-6} \\, \\text{s}$\n",
    "  - $\\frac{R_\\odot}{c} \\approx 2.3 \\, \\text{s}$\n",
    "\n",
    "\n",
    "## Calculations\n",
    "1. **Radius of the Sun**:\n",
    "   $$\n",
    "   R_\\odot = \\frac{R_\\odot}{c} \\times c = 2.3 \\, \\text{s} \\times 3 \\times 10^8 \\, \\text{m/s} = 6.9 \\times 10^8 \\, \\text{m}\n",
    "   $$\n",
    "\n",
    "2. **Mean density of the Sun**:\n",
    "   $$\n",
    "   \\rho_\\odot = \\frac{3 \\cdot G*M_\\odot}{4 \\pi \\cdot  R_\\odot^3 \\cdot c^3 } = \\frac{3 \\times 1.989 \\times 10^{30} \\, \\text{kg}}{4 \\pi (6.9 \\times 10^8 \\, \\text{m})^3} \\approx 1.408 \\, \\text{kg/m}^3\n",
    "   $$\n",
    "\n",
    "3. **Mass of the black hole with the same mean density**:\n",
    "   The Schwarzschild radius for a black hole is:\n",
    "   $$\n",
    "   R = \\frac{2GM}{c^2}\n",
    "   $$\n",
    "   Using the formula for mean density:\n",
    "   $$\n",
    "   \\rho = \\frac{3M}{4\\pi R^3}\n",
    "   $$\n",
    "   Substitute $R$ and solve for $M$:\n",
    "   $$\n",
    "   M = \\frac{c^6}{8 \\pi G^3 \\rho}\n",
    "   $$\n",
    "   Substituting the values:\n",
    "   $$\n",
    "   M = \\frac{(3 \\times 10^8)^6}{8 \\pi (6.67430 \\times 10^{-11})^3 \\times 1.408}\n",
    "   $$\n",
    "   Result:\n",
    "   $$\n",
    "   M \\approx 6.75 \\times 10^{76} \\, \\text{kg}\n",
    "   $$\n",
    "\n",
    "4. **Mass in solar masses**:\n",
    "   $$\n",
    "   M_{\\text{black hole}} = \\frac{M}{M_\\odot} = \\frac{6.75 \\times 10^{76} \\, \\text{kg}}{1.989 \\times 10^{30} \\, \\text{kg}} \\approx 3.39 \\times 10^{46} \\, M_\\odot\n",
    "   $$\n",
    "\n"
   ]
  },
  {
   "cell_type": "code",
   "execution_count": null,
   "metadata": {},
   "outputs": [
    {
     "name": "stdout",
     "output_type": "stream",
     "text": [
      "Mass Blackhole in kg:6.749499912510549e+76\n",
      "Mass Blackhole in sunn masses: 3.3934137317800647e+46\n"
     ]
    }
   ],
   "source": [
    "import math\n",
    "\n",
    "G = 6.67430e-11  \n",
    "c = 3e8 \n",
    "solar_mass = 1.989e30  \n",
    "GM_sun_over_c3 = 5e-6  # GM_sun/c^3 in seconds\n",
    "R_sun_over_c = 2.3  # R_sun/c in seconds\n",
    "\n",
    "\n",
    "R_sun = R_sun_over_c * c  # Radius of the Sun in meters\n",
    "density_sun = (3 * solar_mass) / (4 * math.pi * R_sun**3)  # Mean density of the Sun\n",
    "\n",
    "M_black_hole = (c**6) / (8 * math.pi * G**3 * density_sun)\n",
    "\n",
    "M_black_hole_solar_masses = M_black_hole / solar_mass  # Convert to solar masses\n",
    "\n",
    "print(f\"Mass Blackhole in kg:{M_black_hole}\")\n",
    "print(f\"Mass Blackhole in sunn masses: {M_black_hole_solar_masses}\")\n",
    "\n"
   ]
  },
  {
   "cell_type": "markdown",
   "metadata": {},
   "source": [
    "## Conclusion\n",
    "The mass of the black hole with the same mean density as the Sun is:\n",
    "- $6.75 \\times 10^{76} \\, \\text{kg}$\n",
    "- Approximately $3.39 \\times 10^{46}$ times the mass of the Sun.\n",
    "\n",
    "This value is extremely large and not physically realistic, as the assumptions about constant density do not hold true for such massive objects like black holes.\n"
   ]
  }
 ],
 "metadata": {
  "kernelspec": {
   "display_name": "jupyter-math",
   "language": "python",
   "name": "python3"
  },
  "language_info": {
   "codemirror_mode": {
    "name": "ipython",
    "version": 3
   },
   "file_extension": ".py",
   "mimetype": "text/x-python",
   "name": "python",
   "nbconvert_exporter": "python",
   "pygments_lexer": "ipython3",
   "version": "3.11.5"
  }
 },
 "nbformat": 4,
 "nbformat_minor": 2
}
