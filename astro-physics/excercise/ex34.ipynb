{
 "cells": [
  {
   "cell_type": "markdown",
   "metadata": {},
   "source": [
    "## Exercise E.33\n",
    "\n",
    "The Sun has $ \\frac{GM_\\odot}{c^3} \\approx 5 \\times 10^{-6} \\, \\text{s} $ and $ \\frac{R_\\odot}{c} \\approx 2.3 \\, \\text{s} $.  \n",
    "Estimate the mass of a black hole with the same mean density as the Sun.\n"
   ]
  },
  {
   "cell_type": "markdown",
   "metadata": {},
   "source": [
    "## Exercise E.33\n",
    "\n",
    "The Sun has $ \\frac{GM_\\odot}{c^3} \\approx 5 \\times 10^{-6} \\, \\text{s} $ and $ \\frac{R_\\odot}{c} \\approx 2.3 \\, \\text{s} $.  \n",
    "Estimate the mass of a black hole with the same mean density as the Sun.\n",
    "\n",
    "---\n",
    "\n",
    "### Solution\n",
    "\n",
    "1. **Mean Density of the Sun**  \n",
    "   The mean density of the Sun is given by:  \n",
    "$$\n",
    "   \\rho_\\odot = \\frac{M_\\odot}{\\frac{4}{3} \\pi R_\\odot^3}\n",
    "$$\n",
    "\n",
    "2. **Mean Density of a Black Hole**  \n",
    "   A black hole's mean density is:  \n",
    "$$\n",
    "   \\rho_\\text{BH} = \\frac{M_\\text{BH}}{\\frac{4}{3} \\pi R_s^3}\n",
    "$$\n",
    "   where $ R_s = \\frac{2 G M_\\text{BH}}{c^2} $.  \n",
    "   Substituting $ R_s $:  \n",
    "$$\n",
    "   \\rho_\\text{BH} = \\frac{c^6}{32 \\pi G^3 M_\\text{BH}^2}\n",
    "$$\n",
    "\n",
    "3. **Equating Densities**  \n",
    "   Since $ \\rho_\\text{BH} = \\rho_\\odot $:  \n",
    "$$\n",
    "   \\frac{c^6}{32 \\pi G^3 M_\\text{BH}^2} = \\frac{M_\\odot}{\\frac{4}{3} \\pi R_\\odot^3}\n",
    "$$\n",
    "   Rearranging:  \n",
    "$$\n",
    "   M_\\text{BH}^2 = \\frac{c^6 R_\\odot^3}{24 G^3 M_\\odot}\n",
    "$$\n",
    "$$\n",
    "   M_\\text{BH} = \\sqrt{\\frac{c^6 R_\\odot^3}{24 G^3 M_\\odot}}\n",
    "$$\n",
    "\n",
    "4. **Simplify Using Given Values**  \n",
    "   Substitute $ G M_\\odot = 5 \\times 10^{-6} c^3 $ and $ R_\\odot = 2.3 c $:  \n",
    "$$\n",
    "   M_\\text{BH} = \\sqrt{\\frac{(2.3)^3 c^9}{24 \\cdot (125 \\times 10^{-18}) c^9}}\n",
    "$$\n",
    "   Simplifying:  \n",
    "$$\n",
    "   M_\\text{BH} \\approx 2.01 \\times 10^8 M_\\odot\n",
    "$$\n",
    "\n",
    "---\n",
    "\n",
    "### Final Answer:\n",
    "The mass of the black hole is approximately:  \n",
    "$$\n",
    "M_\\text{BH} \\approx 2.01 \\times 10^8 M_\\odot\n",
    "$$\n"
   ]
  },
  {
   "cell_type": "code",
   "execution_count": 2,
   "metadata": {},
   "outputs": [
    {
     "name": "stdout",
     "output_type": "stream",
     "text": [
      "The mass of the black hole is approximately 3.15e-23 solar masses.\n"
     ]
    }
   ],
   "source": [
    "import math\n",
    "\n",
    "# Given values\n",
    "G_M_sun_c3 = 5e-6  # GM_sun / c^3 in seconds\n",
    "R_sun_c = 2.3      # R_sun / c in seconds\n",
    "\n",
    "# Constants\n",
    "c = 3e8            # Speed of light in m/s\n",
    "G_M_sun = G_M_sun_c3 * c**3  # GM_sun in m^3/s^2\n",
    "R_sun = R_sun_c * c          # R_sun in meters\n",
    "\n",
    "# Calculate mass of the black hole\n",
    "M_BH = math.sqrt((c**6 * R_sun**3) / (24 * G_M_sun**3))\n",
    "\n",
    "# Convert to solar masses (1 solar mass = G_M_sun / G)\n",
    "G = 6.67430e-11  # Gravitational constant in m^3/kg/s^2\n",
    "solar_mass = G_M_sun / G  # Solar mass in kg\n",
    "M_BH_in_solar_masses = M_BH / solar_mass\n",
    "\n",
    "# Print result\n",
    "print(f\"The mass of the black hole is approximately {M_BH_in_solar_masses:.2e} solar masses.\")\n"
   ]
  },
  {
   "cell_type": "code",
   "execution_count": 4,
   "metadata": {},
   "outputs": [
    {
     "name": "stdout",
     "output_type": "stream",
     "text": [
      "The mass of the black hole is approximately 3.15e-23 solar masses.\n"
     ]
    }
   ],
   "source": [
    "import math\n",
    "\n",
    "# Given values\n",
    "G_M_sun_c3 = 5e-6  # GM_sun / c^3 in seconds\n",
    "R_sun_c = 2.3      # R_sun / c in seconds\n",
    "\n",
    "# Constants\n",
    "c = 3e8            # Speed of light in m/s\n",
    "G = 6.67430e-11    # Gravitational constant in m^3/kg/s^2\n",
    "\n",
    "# Calculate GM_sun and R_sun\n",
    "G_M_sun = G_M_sun_c3 * c**3  # GM_sun in m^3/s^2\n",
    "R_sun = R_sun_c * c          # R_sun in meters\n",
    "\n",
    "# Calculate mass of the black hole\n",
    "M_BH = math.sqrt((c**6 * R_sun**3) / (24 * G_M_sun**3))\n",
    "\n",
    "# Convert to solar masses\n",
    "solar_mass = G_M_sun / G  # Solar mass in kg\n",
    "M_BH_in_solar_masses = M_BH / solar_mass\n",
    "\n",
    "# Print result\n",
    "print(f\"The mass of the black hole is approximately {M_BH_in_solar_masses:.2e} solar masses.\")\n"
   ]
  }
 ],
 "metadata": {
  "kernelspec": {
   "display_name": "jupyter-math",
   "language": "python",
   "name": "python3"
  },
  "language_info": {
   "codemirror_mode": {
    "name": "ipython",
    "version": 3
   },
   "file_extension": ".py",
   "mimetype": "text/x-python",
   "name": "python",
   "nbconvert_exporter": "python",
   "pygments_lexer": "ipython3",
   "version": "3.11.5"
  }
 },
 "nbformat": 4,
 "nbformat_minor": 2
}
