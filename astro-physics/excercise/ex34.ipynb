{
 "cells": [
  {
   "cell_type": "markdown",
   "metadata": {},
   "source": [
    "## Exercise 33\n",
    "\n",
    "The Sun has $ \\frac{GM_\\odot}{c^3} \\approx 5 \\times 10^{-6} \\, \\text{s} $ and $ \\frac{R_\\odot}{c} \\approx 2.3 \\, \\text{s} $.  \n",
    "Estimate the mass of a black hole with the same mean density as the Sun.\n",
    "\n",
    "\n"
   ]
  },
  {
   "cell_type": "markdown",
   "metadata": {},
   "source": [
    "## Calculations\n",
    "1. **Radius of the Sun**:\n",
    "   $$\n",
    "   R_\\odot = \\frac{R_\\odot}{c} \\times c = 2.3 \\cdot c\n",
    "   $$\n",
    "\n",
    "2. **Mean density of the Sun**:\n",
    "   $$\n",
    "   \\rho_\\odot = \\frac{M_\\odot}{V_\\odot} =\\frac{3 \\cdot M_\\odot}{4 \\pi \\cdot  R_\\odot^3} \n",
    "   $$\n",
    "\n",
    "3. **Mass of the black hole with the same mean density**:\n",
    "   The Schwarzschild radius for a black hole is:\n",
    "   $$\n",
    "   R = \\frac{2GM}{c^2}\n",
    "   $$\n",
    "   Using the formula for mean density:\n",
    "   $$\n",
    "   \\rho = \\frac{3M}{4\\pi R^3} = \\rho_\\odot\n",
    "   $$\n",
    "   Substitute $R$ and solve for $M$:\n",
    "   $$\n",
    "   M = \\sqrt{\\frac{3\\cdot c^6}{4\\cdot 8 \\pi G^3 \\rho_\\odot}}\n",
    "   $$\n",
    "   Result: \n",
    "   $$\n",
    "   M \\approx 2.23 \\times 10^{38} \\, \\text{kg}\n",
    "   $$\n",
    "   Compare to Sunmasses:\n",
    "   $$\n",
    "   \\frac{M}{M_\\odot} = 1.1 \\cdot 10^{8} \\, M_\\odot\n",
    "   $$\n"
   ]
  },
  {
   "cell_type": "code",
   "execution_count": 19,
   "metadata": {},
   "outputs": [
    {
     "name": "stdout",
     "output_type": "stream",
     "text": [
      "Mass of sun = 2.0226840267893262e+30\n",
      "Mass density rho = 1469.9148022270663\n",
      "Mass Blackhole in kg:2.2311039179967933e+38\n",
      "Mass Blackhole in sunn masses: 1.1030412503619258\n"
     ]
    }
   ],
   "source": [
    "import math\n",
    "\n",
    "G = 6.67430e-11  \n",
    "c = 3e8 \n",
    "\n",
    "R_0 = 2.3*c\n",
    "M_0 = 5*10**(-6) * c**3 / G\n",
    "roh = 3*M_0 / (4*math.pi*R_0**3)\n",
    "M = math.sqrt(3*c**6/(4*math.pi*8*G**3 * roh))\n",
    "M_sol = M/M_0\n",
    "\n",
    "print(f\"Mass of sun = {M_0}\")\n",
    "print(f\"Mass density rho = {roh}\")\n",
    "print(f\"Mass Blackhole in kg:{M}\")\n",
    "print(f\"Mass Blackhole in sunn masses: {M_sol/10**8}\")\n",
    "\n"
   ]
  }
 ],
 "metadata": {
  "kernelspec": {
   "display_name": "jupyter-math",
   "language": "python",
   "name": "python3"
  },
  "language_info": {
   "codemirror_mode": {
    "name": "ipython",
    "version": 3
   },
   "file_extension": ".py",
   "mimetype": "text/x-python",
   "name": "python",
   "nbconvert_exporter": "python",
   "pygments_lexer": "ipython3",
   "version": "3.11.5"
  }
 },
 "nbformat": 4,
 "nbformat_minor": 2
}
