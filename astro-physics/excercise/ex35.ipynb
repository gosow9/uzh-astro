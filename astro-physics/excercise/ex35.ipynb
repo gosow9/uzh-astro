{
 "cells": [
  {
   "cell_type": "markdown",
   "metadata": {},
   "source": [
    "# Excercise 3.5\n",
    "Estimate $G$ using the information that (a) the surface gravity on Earth is $g=9.8ms^{-2}$, (b) the Earth is spherical with circumference $40000km$, and (c) the conjecture that the mean density of the Earth equals twice water density."
   ]
  }
 ],
 "metadata": {
  "language_info": {
   "name": "python"
  }
 },
 "nbformat": 4,
 "nbformat_minor": 2
}
