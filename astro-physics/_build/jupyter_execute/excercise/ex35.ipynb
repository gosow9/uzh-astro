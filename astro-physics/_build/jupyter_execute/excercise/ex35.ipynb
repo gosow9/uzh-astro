{
 "cells": [
  {
   "cell_type": "markdown",
   "metadata": {},
   "source": [
    "# Excercise 3.5\n",
    "Estimate $G$ using the information that (a) the surface gravity on Earth is $g=9.8ms^{-2}$, (b) the Earth is spherical with circumference $40000km$, and (c) the conjecture that the mean density of the Earth equals twice water density."
   ]
  }
 ],
 "metadata": {
  "language_info": {
   "codemirror_mode": {
    "name": "ipython",
    "version": 3
   },
   "file_extension": ".py",
   "mimetype": "text/x-python",
   "name": "python",
   "nbconvert_exporter": "python",
   "pygments_lexer": "ipython3",
   "version": "3.11.5"
  }
 },
 "nbformat": 4,
 "nbformat_minor": 2
}