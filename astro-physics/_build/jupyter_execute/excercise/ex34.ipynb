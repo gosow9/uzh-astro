{
 "cells": [
  {
   "cell_type": "markdown",
   "metadata": {},
   "source": [
    "# Excercise 3.4\n",
    "For readers familiar with Gauss’s flux law in electrostatics: adapt the flux law to show that the local gravitational acceleration averaged over the surface of an asteroid of arbitrary shape and mass distribution satisfies\n",
    "\n",
    "$$\n",
    " \\langle g\\rangle  = \\frac{4\\pi}{A}Gm\n",
    "$$\n",
    "\n",
    "where $A$ is surface area of the asteroid and $m$ is its mass."
   ]
  }
 ],
 "metadata": {
  "language_info": {
   "codemirror_mode": {
    "name": "ipython",
    "version": 3
   },
   "file_extension": ".py",
   "mimetype": "text/x-python",
   "name": "python",
   "nbconvert_exporter": "python",
   "pygments_lexer": "ipython3",
   "version": "3.11.5"
  }
 },
 "nbformat": 4,
 "nbformat_minor": 2
}