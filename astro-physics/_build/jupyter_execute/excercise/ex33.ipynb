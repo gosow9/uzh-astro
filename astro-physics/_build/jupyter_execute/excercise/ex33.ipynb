{
 "cells": [
  {
   "cell_type": "markdown",
   "metadata": {},
   "source": [
    "# Excercise 3.3\n",
    "Newton’s Principia begins (after some long prefaces) with definitions, followed by axioms and laws of motion. Newton does not claim to have discovered Newton’s laws of motion, but attributes them to four of his predecessors and contemporaries. Look up a version of Principia online, and find out whom he credits."
   ]
  }
 ],
 "metadata": {
  "language_info": {
   "codemirror_mode": {
    "name": "ipython",
    "version": 3
   },
   "file_extension": ".py",
   "mimetype": "text/x-python",
   "name": "python",
   "nbconvert_exporter": "python",
   "pygments_lexer": "ipython3",
   "version": "3.11.5"
  }
 },
 "nbformat": 4,
 "nbformat_minor": 2
}