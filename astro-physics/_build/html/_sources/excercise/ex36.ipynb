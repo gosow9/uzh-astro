{
 "cells": [
  {
   "cell_type": "markdown",
   "metadata": {},
   "source": [
    "# Exercise 35\n",
    "\n",
    "For relativistic orbits, the role of orbital energy is taken by the value of the Hamiltonian (up to a constant, depending on exactly how $ H $ is defined). For the Schwarzschild Hamiltonian:\n",
    "\n",
    "$$\n",
    "H(r, \\phi, p_r, p_\\phi) = \\left(1 - \\frac{2M}{r}\\right) \\frac{p_r^2}{2} + \\frac{p_\\phi^2}{2r^2} - \\frac{r/2}{r - 2M},\n",
    "$$\n",
    "\n",
    "the value $H + \\frac{1}{2} $ plays the role of energy per unit mass.\n",
    "\n",
    "What is the **fractional change in energy** for a body in the innermost stable circular orbit (ISCO), compared to its value outside the gravitational field? The energy difference is typically radiated away as energy.\n",
    "\n"
   ]
  },
  {
   "cell_type": "markdown",
   "metadata": {},
   "source": [
    "\n",
    "\n",
    "# Solution\n",
    "\n",
    "To solve the problem, we calculate the fractional change in energy as follows:\n",
    "\n",
    "### Step 1: Energy at ISCO\n",
    "For the Schwarzschild metric, the radius of the **innermost stable circular orbit (ISCO)** for a non-rotating black hole is:\n",
    "\n",
    "$$\n",
    "r_\\text{ISCO} = 6M.\n",
    "$$\n",
    "\n",
    "The specific energy per unit mass at the ISCO is given by:\n",
    "\n",
    "$$\n",
    "E_\\text{ISCO} = \\sqrt{\\frac{8}{9}}.\n",
    "$$\n",
    "\n",
    "Substituting, we get:\n",
    "\n",
    "$$\n",
    "E_\\text{ISCO} \\approx 0.943.\n",
    "$$\n",
    "\n",
    "### Step 2: Energy at Infinity\n",
    "Far away from the black hole (as $ r \\to \\infty $), the gravitational field vanishes, and the specific energy per unit mass is:\n",
    "\n",
    "$$\n",
    "E_\\infty = 1.\n",
    "$$\n",
    "\n",
    "### Step 3: Fractional Change in Energy\n",
    "The fractional change in energy is calculated as:\n",
    "\n",
    "$$\n",
    "\\text{Fractional Change} = \\frac{E_\\infty - E_\\text{ISCO}}{E_\\infty}.\n",
    "$$\n",
    "\n",
    "Substituting the values:\n",
    "\n",
    "$$\n",
    "\\text{Fractional Change} = \\frac{1 - 0.943}{1} = 0.057.\n",
    "$$\n",
    "\n",
    "This is equivalent to a fractional change of approximately **5.7%**."
   ]
  },
  {
   "cell_type": "code",
   "execution_count": 3,
   "metadata": {},
   "outputs": [
    {
     "name": "stdout",
     "output_type": "stream",
     "text": [
      "Fractional change in energy: 0.05719 (5.72%)\n"
     ]
    }
   ],
   "source": [
    "import math\n",
    "\n",
    "def calculate_fractional_change():\n",
    "\n",
    "    E_ISCO = math.sqrt(8 / 9)\n",
    "    E_infinity = 1.0\n",
    "    fractional_change = (E_infinity - E_ISCO) / E_infinity\n",
    "\n",
    "    return fractional_change\n",
    "\n",
    "\n",
    "fractional_change = calculate_fractional_change()\n",
    "print(f\"Fractional change in energy: {fractional_change:.5f} ({fractional_change * 100:.2f}%)\")\n"
   ]
  }
 ],
 "metadata": {
  "kernelspec": {
   "display_name": "jupyter-math",
   "language": "python",
   "name": "python3"
  },
  "language_info": {
   "codemirror_mode": {
    "name": "ipython",
    "version": 3
   },
   "file_extension": ".py",
   "mimetype": "text/x-python",
   "name": "python",
   "nbconvert_exporter": "python",
   "pygments_lexer": "ipython3",
   "version": "3.11.5"
  }
 },
 "nbformat": 4,
 "nbformat_minor": 2
}
